{
 "cells": [
  {
   "cell_type": "code",
   "execution_count": 1,
   "metadata": {},
   "outputs": [],
   "source": [
    "import cv2\n",
    "import mediapipe as mp\n",
    "import time"
   ]
  },
  {
   "cell_type": "code",
   "execution_count": 25,
   "metadata": {},
   "outputs": [],
   "source": [
    "cap=cv2.VideoCapture(0)\n",
    "mpface=mp.solutions.face_detection\n",
    "Facedetection=mpface.FaceDetection()\n",
    "mpDraw=mp.solutions.drawing_utils\n",
    "cTime=0\n",
    "pTime=0\n",
    "while True:\n",
    "    success,image=cap.read()\n",
    "    imgRGB=cv2.cvtColor(image, cv2.COLOR_BGR2RGB)\n",
    "    results=Facedetection.process(imgRGB)\n",
    "    if results.detections:\n",
    "        #default function to draw bounding boxes\n",
    "        #mpDraw.draw_detection(image,results.detections)\n",
    "        for  id, detections in enumerate(results.detections):\n",
    "                #print(detections)\n",
    "                #print(detections.score)\n",
    "                #print(detections.location_data.relative_bounding_box)\n",
    "                bboxc=detections.location_data.relative_bounding_box\n",
    "                h,w,c=imgRGB.shape\n",
    "                bbox=int(bboxc.xmin*w),int(bboxc.ymin*h),int(bboxc.width*w),int(bboxc.height*h)\n",
    "                cv2.rectangle(image,bbox,(0,0,255),1)\n",
    "                #fancy line\n",
    "                a,b,c,d=bbox\n",
    "                a1,b1=a+c,b+d\n",
    "                #top left a,b\n",
    "                cv2.line(image, (a,b),(a+30,b),(0,0,255),5)\n",
    "                cv2.line(image, (a,b),(a,b+30),(0,0,255),5)\n",
    "                #top right a1,b\n",
    "                cv2.line(image, (a1,b),(a1-30,b),(0,0,255),5)\n",
    "                cv2.line(image, (a1,b),(a1,b+30),(0,0,255),5)\n",
    "                #bottom left a,b1\n",
    "                cv2.line(image, (a,b1),(a+30,b1),(0,0,255),5)\n",
    "                cv2.line(image, (a,b1),(a,b1-30),(0,0,255),5)\n",
    "                #bottom right a1,b1\n",
    "                cv2.line(image, (a1,b1),(a1-30,b1),(0,0,255),5)\n",
    "                cv2.line(image, (a1,b1),(a1,b1-30),(0,0,255),5)\n",
    "                cv2.putText(image,f'{int(detections.score[0]*100)}%',(bbox[0],bbox[1]-20),cv2.FONT_HERSHEY_PLAIN,1,(0,0,255),2)\n",
    "    cTime=time.time()\n",
    "    fps=1/(cTime-pTime)\n",
    "    pTime=cTime\n",
    "    #image,fps,size,font,scale,color,thickness\n",
    "    cv2.putText(image,\"FPS:\"+str(int(fps)),(10,70),cv2.FONT_HERSHEY_PLAIN,2,(255,0,255),4)\n",
    "    cv2.imshow(\"Image\", image)\n",
    "    if cv2.waitKey(1) & 0xFF == ord('q'):\n",
    "        break\n",
    "cap.release()\n",
    "cv2.destroyAllWindows()"
   ]
  },
  {
   "cell_type": "code",
   "execution_count": null,
   "metadata": {},
   "outputs": [],
   "source": []
  }
 ],
 "metadata": {
  "kernelspec": {
   "display_name": "computervision",
   "language": "python",
   "name": "python3"
  },
  "language_info": {
   "name": "python",
   "version": "3.9.19"
  }
 },
 "nbformat": 4,
 "nbformat_minor": 2
}
