{
 "cells": [
  {
   "cell_type": "code",
   "execution_count": 1,
   "metadata": {},
   "outputs": [],
   "source": [
    "import cv2\n",
    "import mediapipe as mp\n",
    "import time"
   ]
  },
  {
   "cell_type": "code",
   "execution_count": 2,
   "metadata": {},
   "outputs": [],
   "source": [
    "cap=cv2.VideoCapture(0)\n",
    "mphands=mp.solutions.hands\n",
    "hands=mphands.Hands()\n",
    "mpDraw=mp.solutions.drawing_utils\n",
    "cTime=0\n",
    "pTime=0\n",
    "while True:\n",
    "    success,image=cap.read()\n",
    "    imgRGB=cv2.cvtColor(image, cv2.COLOR_BGR2RGB)\n",
    "    results=hands.process(imgRGB)\n",
    "    if results.multi_hand_landmarks:\n",
    "        for  handLms in results.multi_hand_landmarks:\n",
    "            for  id, lm in enumerate(handLms.landmark):\n",
    "                #print(lm)\n",
    "                h,w,c=imgRGB.shape\n",
    "                x,y=lm.x*w,lm.y*h\n",
    "                cv2.circle(image,(int(x),int(y)),15,(255,0,255),cv2.FILLED)\n",
    "            mpDraw.draw_landmarks(image,handLms,mphands.HAND_CONNECTIONS)\n",
    "    cTime=time.time()\n",
    "    fps=1/(cTime-pTime)\n",
    "    pTime=cTime\n",
    "    #image,fps,size,font,scale,color,thickness\n",
    "    cv2.putText(image,\"FPS:\"+str(int(fps)),(10,70),cv2.FONT_HERSHEY_PLAIN,2,(255,0,255),4)\n",
    "    cv2.imshow(\"Image\", image)\n",
    "    if cv2.waitKey(1) & 0xFF == ord('q'):\n",
    "        break\n",
    "cap.release()\n",
    "cv2.destroyAllWindows()\n"
   ]
  },
  {
   "cell_type": "code",
   "execution_count": null,
   "metadata": {},
   "outputs": [],
   "source": []
  }
 ],
 "metadata": {
  "kernelspec": {
   "display_name": "computervision",
   "language": "python",
   "name": "python3"
  },
  "language_info": {
   "codemirror_mode": {
    "name": "ipython",
    "version": 3
   },
   "file_extension": ".py",
   "mimetype": "text/x-python",
   "name": "python",
   "nbconvert_exporter": "python",
   "pygments_lexer": "ipython3",
   "version": "3.9.19"
  }
 },
 "nbformat": 4,
 "nbformat_minor": 2
}
